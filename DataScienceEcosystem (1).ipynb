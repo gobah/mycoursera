{
 "cells": [
  {
   "cell_type": "markdown",
   "metadata": {},
   "source": [
    "<center>\n",
    "    <img src=\"https://cf-courses-data.s3.us.cloud-object-storage.appdomain.cloud/IBMDeveloperSkillsNetwork-DS0105EN-SkillsNetwork/labs/Module2/images/SN_web_lightmode.png\" width=\"300\" alt=\"cognitiveclass.ai logo\">\n",
    "</center>\n"
   ]
  },
  {
   "cell_type": "markdown",
   "metadata": {},
   "source": [
    "#### Add your code below following the instructions given in the course\n"
   ]
  },
  {
   "cell_type": "markdown",
   "metadata": {
    "tags": []
   },
   "source": [
    "#### Exercise 2: Create markdown cell with title of the notebook\n",
    "#Create a markdown cell with the title Data Science Tools and Ecosystem using H1 style heading.\n",
    "\n",
    "# Data Science Tools and Ecosystem"
   ]
  },
  {
   "cell_type": "markdown",
   "metadata": {},
   "source": [
    "#### Exercise 3 - Create a markdown cell for an introduction\n",
    "\n",
    "#Write an introductory sentence about the notebook such as the follows:\n",
    "\n",
    "In this notebook, Data Science Tools and Ecosystem are summarized."
   ]
  },
  {
   "cell_type": "markdown",
   "metadata": {},
   "source": [
    "#### Exercise 10 - Insert a markdown cell to list Objectives\n",
    "\n",
    "Below the introduction cell created in Exercise 3, insert a new markdown cell to list the objectives that this notebook covered (i.e. some of the key takeaways from the course). \n",
    "\n",
    "# Objectives \n",
    "- Common tools for Data Science \n",
    "- Popular languages for Data Science \n",
    "- Introduction to Python \n",
    "- Introduction to R \n",
    "- Introduction to Jupyter Notebooks \n"
   ]
  },
  {
   "cell_type": "markdown",
   "metadata": {},
   "source": [
    "#### Exercise 4 - Create a markdown cell to list data science languages\n",
    "\n",
    "\n",
    "Some of the popular languages that Data Scientists use are: \n",
    "1. Python \n",
    "2. R \n",
    "3. SQL \n",
    "4. Scala \n",
    "5. Java \n",
    "6. C++ \n"
   ]
  },
  {
   "cell_type": "markdown",
   "metadata": {},
   "source": [
    "#### Exercise 5 - Create a markdown cell to list data science libraries\n",
    "\n",
    "Some of the commonly used libraries used by Data Scientists include:\n",
    "1. Pandas \n",
    "2. Numpy \n",
    "3. Matplotlib \n",
    "4. Seaborn \n",
    "5. Scikit-learn "
   ]
  },
  {
   "cell_type": "markdown",
   "metadata": {},
   "source": [
    "#### Exercise 6 - Create a markdown cell with a table of Data Science tools\n",
    "\n",
    "| Data Science Tools |\n",
    "| ------------------ |\n",
    "| My SQL | \n",
    "| Apache Cassandra|\n",
    "| Hadoop |\n"
   ]
  },
  {
   "cell_type": "markdown",
   "metadata": {},
   "source": [
    "#### Exercise 7 - Create a markdown cell introducing arithmetic expression examples\n",
    "#Add a line in this cell with H3 style heading with text like:\n",
    "\n",
    "### Below are a few examples of evaluating arithmetic expressions in Python.\n",
    "* 2 + 2 \n",
    "* 5 / 2 \n",
    "* 3(2 + 1) "
   ]
  },
  {
   "cell_type": "code",
   "execution_count": 1,
   "metadata": {
    "tags": []
   },
   "outputs": [
    {
     "data": {
      "text/plain": [
       "17"
      ]
     },
     "execution_count": 1,
     "metadata": {},
     "output_type": "execute_result"
    }
   ],
   "source": [
    "# Exercise 8 - Create a code cell to multiply and add numbers\n",
    "\n",
    "# In this code cell evaluate the expression: (3*4)+5. \n",
    "\n",
    "#This a simple arithmetic expression to mutiply then add integers.\n",
    "\n",
    "(3*4)+5\n"
   ]
  },
  {
   "cell_type": "code",
   "execution_count": 2,
   "metadata": {
    "tags": []
   },
   "outputs": [
    {
     "data": {
      "text/plain": [
       "3.3333333333333335"
      ]
     },
     "execution_count": 2,
     "metadata": {},
     "output_type": "execute_result"
    }
   ],
   "source": [
    "# Exercise 9 - Create a code cell to convert minutes to hours\n",
    "\n",
    "# In this code cell write an expression that converts 200 minutes into hours.\n",
    "#Insert a comment line before the expression to explain the operation e.g.  \n",
    "\n",
    "#This code will convert 200 minutes to hours by diving by 60.\n",
    "\n",
    "minutes = 200 \n",
    "hours = minutes / 60 \n",
    "hours"
   ]
  },
  {
   "cell_type": "markdown",
   "metadata": {},
   "source": [
    "#### Exercise 11 - Create a markdown cell to indicate the Author's name\n",
    "\n",
    "In this markdown cell markdown cell include the following text Author in H2 style heading. \n",
    "Include your name as regular text below the word Author.\n",
    "\n",
    "## Author \n",
    "Godfred Gobah "
   ]
  },
  {
   "cell_type": "code",
   "execution_count": null,
   "metadata": {},
   "outputs": [],
   "source": []
  }
 ],
 "metadata": {
  "kernelspec": {
   "display_name": "Python",
   "language": "python",
   "name": "conda-env-python-py"
  },
  "language_info": {
   "codemirror_mode": {
    "name": "ipython",
    "version": 3
   },
   "file_extension": ".py",
   "mimetype": "text/x-python",
   "name": "python",
   "nbconvert_exporter": "python",
   "pygments_lexer": "ipython3",
   "version": "3.7.12"
  }
 },
 "nbformat": 4,
 "nbformat_minor": 4
}
